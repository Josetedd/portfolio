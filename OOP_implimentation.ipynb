{
  "cells": [
    {
      "cell_type": "markdown",
      "metadata": {
        "id": "view-in-github",
        "colab_type": "text"
      },
      "source": [
        "<a href=\"https://colab.research.google.com/github/Josetedd/portfolio/blob/main/OOP_implimentation.ipynb\" target=\"_parent\"><img src=\"https://colab.research.google.com/assets/colab-badge.svg\" alt=\"Open In Colab\"/></a>"
      ]
    },
    {
      "cell_type": "code",
      "execution_count": 9,
      "metadata": {
        "id": "lwDcR9P8RC7d"
      },
      "outputs": [],
      "source": [
        "# create a class books\n",
        "class Books:\n",
        "    # constructor\n",
        "    def __init__(self, title, author, isbn, available = True):\n",
        "        self.title = title\n",
        "        self.author = author\n",
        "        self.isbn = isbn\n",
        "        self.available = available\n",
        "\n",
        "    # method to borrow a book\n",
        "    def borrow(self):\n",
        "        if self.available:\n",
        "            self.available = False\n",
        "            print(f\"{self.title} by {self.author} has been borrowed.\")\n",
        "        else:\n",
        "            print(f\"{self.title} by {self.author} Not available.\")\n",
        "\n",
        "    # method to return a book\n",
        "    def return_book(self):\n",
        "        if not self.available:\n",
        "            self.available = True\n",
        "            print(f\"{self.title} by {self.author} has been returned.\")\n",
        "        else:\n",
        "            print(f\"{self.title} by {self.author} is already available.\")\n",
        "\n",
        "    # method to get book details\n",
        "    def get_book_details(self):\n",
        "        print(f\"Title: {self.title}\")\n",
        "        print(f\"Author: {self.author}\")\n",
        "        print(f\"ISBN: {self.isbn}\")\n",
        "        print(f\"Available: {self.available}\")\n",
        "\n",
        "# library class\n",
        "class Library:\n",
        "    def __init__(self):\n",
        "        self.books = []\n",
        "\n",
        "    # method to add a book to the library\n",
        "    def add_book(self, book):\n",
        "        self.books.append(book)\n",
        "        print(f\"{book.title} by {book.author} has been added to the library.\")\n",
        "\n",
        "    # method to list all books in the library\n",
        "    def list_books(self):\n",
        "        if not self.books:\n",
        "            print(\"No books in the library.\")\n",
        "        else:\n",
        "            print(\"List of books in the library:\")\n",
        "            for book in self.books:\n",
        "                print(f\"- {book.title} by {book.author} , isdn: {book.isbn}, Available: {book.available}\")\n",
        "    # find books\n",
        "    def find_book(self, title):\n",
        "        for book in self.books:\n",
        "            if book.title == title:\n",
        "                return book\n",
        "        return None\n",
        "\n",
        "\n",
        "\n",
        "\n"
      ]
    },
    {
      "cell_type": "code",
      "execution_count": 10,
      "metadata": {
        "id": "ezdNma2oVlOS"
      },
      "outputs": [],
      "source": [
        "# Initialize a library\n",
        "GoMyCodelibrary = Library()"
      ]
    },
    {
      "cell_type": "code",
      "execution_count": 12,
      "metadata": {
        "colab": {
          "base_uri": "https://localhost:8080/"
        },
        "id": "jhznc4ZwWNls",
        "outputId": "ef27c379-8c5e-4b86-f183-f390f58c752a"
      },
      "outputs": [
        {
          "output_type": "stream",
          "name": "stdout",
          "text": [
            "The river Between by Ngugi Wa Thiongo has been added to the library.\n",
            "Merchant of Venice by Shakespeare has been added to the library.\n"
          ]
        }
      ],
      "source": [
        "# add book to the library\n",
        "GoMyCodelibrary.add_book(Books(\"The river Between\", \"Ngugi Wa Thiongo\", \"123456789\"))\n",
        "GoMyCodelibrary.add_book(Books(\"Merchant of Venice\", \"Shakespeare\", \"1011121314\"))"
      ]
    },
    {
      "cell_type": "code",
      "execution_count": 13,
      "metadata": {
        "colab": {
          "base_uri": "https://localhost:8080/"
        },
        "id": "otgZ2SXTUxzR",
        "outputId": "fd6ad190-366a-417d-c621-b0bcc5cde9a4"
      },
      "outputs": [
        {
          "output_type": "stream",
          "name": "stdout",
          "text": [
            "List of books in the library:\n",
            "- The river Between by Ngugi Wa Thiongo , isdn: 123456789, Available: True\n",
            "- Merchant of Venice by Shakespeare , isdn: 1011121314, Available: True\n"
          ]
        }
      ],
      "source": [
        "# list all books in the library\n",
        "GoMyCodelibrary.list_books()"
      ]
    },
    {
      "cell_type": "code",
      "execution_count": 16,
      "metadata": {
        "colab": {
          "base_uri": "https://localhost:8080/"
        },
        "id": "Us67RqcGVR5z",
        "outputId": "4ef7d09a-e7d3-43e9-a2b6-bd96671511fe"
      },
      "outputs": [
        {
          "output_type": "stream",
          "name": "stdout",
          "text": [
            "Enter book title: The river Between\n",
            "The river Between by Ngugi Wa Thiongo has been borrowed.\n"
          ]
        }
      ],
      "source": [
        "# borrow a book\n",
        "# input book title\n",
        "title = input(\"Enter book title: \")\n",
        "book = GoMyCodelibrary.find_book(title)\n",
        "if book:\n",
        "    book.borrow()\n",
        "    print\n",
        "else:\n",
        "    print(\"Book not found.\")"
      ]
    },
    {
      "cell_type": "code",
      "execution_count": 17,
      "metadata": {
        "colab": {
          "base_uri": "https://localhost:8080/"
        },
        "id": "8i4Om--6YM9C",
        "outputId": "274db7d3-b889-4f7c-f71d-f34b770fa710"
      },
      "outputs": [
        {
          "output_type": "stream",
          "name": "stdout",
          "text": [
            "List of books in the library:\n",
            "- The river Between by Ngugi Wa Thiongo , isdn: 123456789, Available: False\n",
            "- Merchant of Venice by Shakespeare , isdn: 1011121314, Available: True\n"
          ]
        }
      ],
      "source": [
        "GoMyCodelibrary.list_books()"
      ]
    },
    {
      "cell_type": "code",
      "execution_count": 18,
      "metadata": {
        "id": "FHVzlE8EcCy8",
        "colab": {
          "base_uri": "https://localhost:8080/"
        },
        "outputId": "6a64689b-9690-409b-ff83-5c2824621c9b"
      },
      "outputs": [
        {
          "output_type": "stream",
          "name": "stdout",
          "text": [
            "Enter book title: The river Between\n",
            "The river Between by Ngugi Wa Thiongo has been returned.\n"
          ]
        }
      ],
      "source": [
        "# return book\n",
        "title = input(\"Enter book title: \")\n",
        "book = GoMyCodelibrary.find_book(title)\n",
        "if book:\n",
        "    book.return_book()\n",
        "else:\n",
        "    print(\"Book not found in the library please confirm title\")"
      ]
    },
    {
      "cell_type": "code",
      "source": [
        "GoMyCodelibrary.list_books()"
      ],
      "metadata": {
        "colab": {
          "base_uri": "https://localhost:8080/"
        },
        "id": "rrZrODYu_3fG",
        "outputId": "33e0f15b-7e88-452e-d6c1-7b4ed8ec36e2"
      },
      "execution_count": 19,
      "outputs": [
        {
          "output_type": "stream",
          "name": "stdout",
          "text": [
            "List of books in the library:\n",
            "- The river Between by Ngugi Wa Thiongo , isdn: 123456789, Available: True\n",
            "- Merchant of Venice by Shakespeare , isdn: 1011121314, Available: True\n"
          ]
        }
      ]
    },
    {
      "cell_type": "code",
      "source": [
        "# show book details\n",
        "title = input(\"Enter book title: \")\n",
        "book = GoMyCodelibrary.find_book(title)\n",
        "if book:\n",
        "    book.get_book_details()\n",
        "else:\n",
        "    print(\"Book not found.\")"
      ],
      "metadata": {
        "colab": {
          "base_uri": "https://localhost:8080/"
        },
        "id": "KQq5MwWy_-l1",
        "outputId": "1d73b0c9-7d59-4fac-e375-ff9b87ac3cf7"
      },
      "execution_count": 20,
      "outputs": [
        {
          "output_type": "stream",
          "name": "stdout",
          "text": [
            "Enter book title: The river Between\n",
            "Title: The river Between\n",
            "Author: Ngugi Wa Thiongo\n",
            "ISBN: 123456789\n",
            "Available: True\n"
          ]
        }
      ]
    },
    {
      "cell_type": "code",
      "source": [],
      "metadata": {
        "id": "CYCTjJVLAMEw"
      },
      "execution_count": null,
      "outputs": []
    }
  ],
  "metadata": {
    "colab": {
      "provenance": [],
      "authorship_tag": "ABX9TyPCGeWYLE29dp3IG68t3GCC",
      "include_colab_link": true
    },
    "kernelspec": {
      "display_name": "Python 3",
      "name": "python3"
    },
    "language_info": {
      "name": "python"
    }
  },
  "nbformat": 4,
  "nbformat_minor": 0
}